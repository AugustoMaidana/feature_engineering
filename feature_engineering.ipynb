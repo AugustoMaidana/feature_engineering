{
    "cells": [
        {
            "cell_type": "markdown",
            "source": [
                "# S09 T01: Tasca Feature Engineering\r\n",
                "\r\n",
                "Descripció:\r\n",
                "\r\n",
                "Aprèn a gestionar paràmetres amb Python.\r\n",
                "\r\n",
                "Objectius:\r\n",
                "\r\n",
                "- Pre-processar les dades realitzant feature engineering\r\n",
                "- Interpretar els diferents conceptes de feature engineering"
            ],
            "metadata": {}
        },
        {
            "cell_type": "code",
            "execution_count": 1,
            "source": [
                "# Load libraries\r\n",
                "import pandas as pd\r\n",
                "import numpy as np\r\n",
                "import seaborn as sns\r\n",
                "import matplotlib.pyplot as plt\r\n",
                "\r\n",
                "from sklearn.preprocessing import OneHotEncoder, StandardScaler, RobustScaler, PowerTransformer\r\n",
                "from sklearn.model_selection import train_test_split\r\n",
                "from sklearn.impute import SimpleImputer\r\n",
                "from sklearn.pipeline import Pipeline\r\n",
                "from sklearn.compose import ColumnTransformer\r\n",
                "from sklearn.decomposition import PCA\r\n",
                "from sklearn.ensemble import RandomForestClassifier\r\n",
                "from sklearn.metrics import classification_report, confusion_matrix\r\n",
                "\r\n",
                "import warnings\r\n",
                "warnings.filterwarnings('ignore')\r\n",
                "\r\n",
                "%matplotlib inline"
            ],
            "outputs": [],
            "metadata": {}
        },
        {
            "cell_type": "code",
            "execution_count": 2,
            "source": [
                "Athletes_df = pd.read_csv('../hypothesis_testing/input/athlete_events.csv', index_col = 'Year').drop('ID', axis = 1) "
            ],
            "outputs": [],
            "metadata": {}
        },
        {
            "cell_type": "code",
            "execution_count": 3,
            "source": [
                "# lets check the glimpse of first five rows of athletes dataframe\r\n",
                "Athletes_df.head()"
            ],
            "outputs": [
                {
                    "output_type": "execute_result",
                    "data": {
                        "text/plain": [
                            "                          Name Sex   Age  Height  Weight            Team  NOC  \\\n",
                            "Year                                                                            \n",
                            "1992                 A Dijiang   M  24.0   180.0    80.0           China  CHN   \n",
                            "2012                  A Lamusi   M  23.0   170.0    60.0           China  CHN   \n",
                            "1920       Gunnar Nielsen Aaby   M  24.0     NaN     NaN         Denmark  DEN   \n",
                            "1900      Edgar Lindenau Aabye   M  34.0     NaN     NaN  Denmark/Sweden  DEN   \n",
                            "1988  Christine Jacoba Aaftink   F  21.0   185.0    82.0     Netherlands  NED   \n",
                            "\n",
                            "            Games  Season       City          Sport  \\\n",
                            "Year                                                  \n",
                            "1992  1992 Summer  Summer  Barcelona     Basketball   \n",
                            "2012  2012 Summer  Summer     London           Judo   \n",
                            "1920  1920 Summer  Summer  Antwerpen       Football   \n",
                            "1900  1900 Summer  Summer      Paris     Tug-Of-War   \n",
                            "1988  1988 Winter  Winter    Calgary  Speed Skating   \n",
                            "\n",
                            "                                 Event Medal  \n",
                            "Year                                          \n",
                            "1992       Basketball Men's Basketball   NaN  \n",
                            "2012      Judo Men's Extra-Lightweight   NaN  \n",
                            "1920           Football Men's Football   NaN  \n",
                            "1900       Tug-Of-War Men's Tug-Of-War  Gold  \n",
                            "1988  Speed Skating Women's 500 metres   NaN  "
                        ],
                        "text/html": "<div>\n<style scoped>\n    .dataframe tbody tr th:only-of-type {\n        vertical-align: middle;\n    }\n\n    .dataframe tbody tr th {\n        vertical-align: top;\n    }\n\n    .dataframe thead th {\n        text-align: right;\n    }\n</style>\n<table border=\"1\" class=\"dataframe\">\n  <thead>\n    <tr style=\"text-align: right;\">\n      <th></th>\n      <th>Name</th>\n      <th>Sex</th>\n      <th>Age</th>\n      <th>Height</th>\n      <th>Weight</th>\n      <th>Team</th>\n      <th>NOC</th>\n      <th>Games</th>\n      <th>Season</th>\n      <th>City</th>\n      <th>Sport</th>\n      <th>Event</th>\n      <th>Medal</th>\n    </tr>\n    <tr>\n      <th>Year</th>\n      <th></th>\n      <th></th>\n      <th></th>\n      <th></th>\n      <th></th>\n      <th></th>\n      <th></th>\n      <th></th>\n      <th></th>\n      <th></th>\n      <th></th>\n      <th></th>\n      <th></th>\n    </tr>\n  </thead>\n  <tbody>\n    <tr>\n      <th>1992</th>\n      <td>A Dijiang</td>\n      <td>M</td>\n      <td>24.0</td>\n      <td>180.0</td>\n      <td>80.0</td>\n      <td>China</td>\n      <td>CHN</td>\n      <td>1992 Summer</td>\n      <td>Summer</td>\n      <td>Barcelona</td>\n      <td>Basketball</td>\n      <td>Basketball Men's Basketball</td>\n      <td>NaN</td>\n    </tr>\n    <tr>\n      <th>2012</th>\n      <td>A Lamusi</td>\n      <td>M</td>\n      <td>23.0</td>\n      <td>170.0</td>\n      <td>60.0</td>\n      <td>China</td>\n      <td>CHN</td>\n      <td>2012 Summer</td>\n      <td>Summer</td>\n      <td>London</td>\n      <td>Judo</td>\n      <td>Judo Men's Extra-Lightweight</td>\n      <td>NaN</td>\n    </tr>\n    <tr>\n      <th>1920</th>\n      <td>Gunnar Nielsen Aaby</td>\n      <td>M</td>\n      <td>24.0</td>\n      <td>NaN</td>\n      <td>NaN</td>\n      <td>Denmark</td>\n      <td>DEN</td>\n      <td>1920 Summer</td>\n      <td>Summer</td>\n      <td>Antwerpen</td>\n      <td>Football</td>\n      <td>Football Men's Football</td>\n      <td>NaN</td>\n    </tr>\n    <tr>\n      <th>1900</th>\n      <td>Edgar Lindenau Aabye</td>\n      <td>M</td>\n      <td>34.0</td>\n      <td>NaN</td>\n      <td>NaN</td>\n      <td>Denmark/Sweden</td>\n      <td>DEN</td>\n      <td>1900 Summer</td>\n      <td>Summer</td>\n      <td>Paris</td>\n      <td>Tug-Of-War</td>\n      <td>Tug-Of-War Men's Tug-Of-War</td>\n      <td>Gold</td>\n    </tr>\n    <tr>\n      <th>1988</th>\n      <td>Christine Jacoba Aaftink</td>\n      <td>F</td>\n      <td>21.0</td>\n      <td>185.0</td>\n      <td>82.0</td>\n      <td>Netherlands</td>\n      <td>NED</td>\n      <td>1988 Winter</td>\n      <td>Winter</td>\n      <td>Calgary</td>\n      <td>Speed Skating</td>\n      <td>Speed Skating Women's 500 metres</td>\n      <td>NaN</td>\n    </tr>\n  </tbody>\n</table>\n</div>"
                    },
                    "metadata": {},
                    "execution_count": 3
                }
            ],
            "metadata": {}
        },
        {
            "cell_type": "code",
            "execution_count": 4,
            "source": [
                "# shape of dataframe\r\n",
                "print('Shape of Athlete DF {}\\n'.format(Athletes_df.shape))"
            ],
            "outputs": [
                {
                    "output_type": "stream",
                    "name": "stdout",
                    "text": [
                        "Shape of Athlete DF (271116, 13)\n\n"
                    ]
                }
            ],
            "metadata": {}
        },
        {
            "cell_type": "code",
            "execution_count": 5,
            "source": [
                "## getting an overview of our data\r\n",
                "Athletes_df.info()"
            ],
            "outputs": [
                {
                    "output_type": "stream",
                    "name": "stdout",
                    "text": [
                        "<class 'pandas.core.frame.DataFrame'>\nInt64Index: 271116 entries, 1992 to 2002\nData columns (total 13 columns):\n #   Column  Non-Null Count   Dtype  \n---  ------  --------------   -----  \n 0   Name    271116 non-null  object \n 1   Sex     271116 non-null  object \n 2   Age     261642 non-null  float64\n 3   Height  210945 non-null  float64\n 4   Weight  208241 non-null  float64\n 5   Team    271116 non-null  object \n 6   NOC     271116 non-null  object \n 7   Games   271116 non-null  object \n 8   Season  271116 non-null  object \n 9   City    271116 non-null  object \n 10  Sport   271116 non-null  object \n 11  Event   271116 non-null  object \n 12  Medal   39783 non-null   object \ndtypes: float64(3), object(10)\nmemory usage: 29.0+ MB\n"
                    ]
                }
            ],
            "metadata": {}
        },
        {
            "cell_type": "code",
            "execution_count": 6,
            "source": [
                "# summary statistics\r\n",
                "Athletes_df.describe()"
            ],
            "outputs": [
                {
                    "output_type": "execute_result",
                    "data": {
                        "text/plain": [
                            "                 Age         Height         Weight\n",
                            "count  261642.000000  210945.000000  208241.000000\n",
                            "mean       25.556898     175.338970      70.702393\n",
                            "std         6.393561      10.518462      14.348020\n",
                            "min        10.000000     127.000000      25.000000\n",
                            "25%        21.000000     168.000000      60.000000\n",
                            "50%        24.000000     175.000000      70.000000\n",
                            "75%        28.000000     183.000000      79.000000\n",
                            "max        97.000000     226.000000     214.000000"
                        ],
                        "text/html": "<div>\n<style scoped>\n    .dataframe tbody tr th:only-of-type {\n        vertical-align: middle;\n    }\n\n    .dataframe tbody tr th {\n        vertical-align: top;\n    }\n\n    .dataframe thead th {\n        text-align: right;\n    }\n</style>\n<table border=\"1\" class=\"dataframe\">\n  <thead>\n    <tr style=\"text-align: right;\">\n      <th></th>\n      <th>Age</th>\n      <th>Height</th>\n      <th>Weight</th>\n    </tr>\n  </thead>\n  <tbody>\n    <tr>\n      <th>count</th>\n      <td>261642.000000</td>\n      <td>210945.000000</td>\n      <td>208241.000000</td>\n    </tr>\n    <tr>\n      <th>mean</th>\n      <td>25.556898</td>\n      <td>175.338970</td>\n      <td>70.702393</td>\n    </tr>\n    <tr>\n      <th>std</th>\n      <td>6.393561</td>\n      <td>10.518462</td>\n      <td>14.348020</td>\n    </tr>\n    <tr>\n      <th>min</th>\n      <td>10.000000</td>\n      <td>127.000000</td>\n      <td>25.000000</td>\n    </tr>\n    <tr>\n      <th>25%</th>\n      <td>21.000000</td>\n      <td>168.000000</td>\n      <td>60.000000</td>\n    </tr>\n    <tr>\n      <th>50%</th>\n      <td>24.000000</td>\n      <td>175.000000</td>\n      <td>70.000000</td>\n    </tr>\n    <tr>\n      <th>75%</th>\n      <td>28.000000</td>\n      <td>183.000000</td>\n      <td>79.000000</td>\n    </tr>\n    <tr>\n      <th>max</th>\n      <td>97.000000</td>\n      <td>226.000000</td>\n      <td>214.000000</td>\n    </tr>\n  </tbody>\n</table>\n</div>"
                    },
                    "metadata": {},
                    "execution_count": 6
                }
            ],
            "metadata": {}
        },
        {
            "cell_type": "code",
            "execution_count": 7,
            "source": [
                "# lets check for missing values\r\n",
                "Athletes_df.isnull().sum()"
            ],
            "outputs": [
                {
                    "output_type": "execute_result",
                    "data": {
                        "text/plain": [
                            "Name           0\n",
                            "Sex            0\n",
                            "Age         9474\n",
                            "Height     60171\n",
                            "Weight     62875\n",
                            "Team           0\n",
                            "NOC            0\n",
                            "Games          0\n",
                            "Season         0\n",
                            "City           0\n",
                            "Sport          0\n",
                            "Event          0\n",
                            "Medal     231333\n",
                            "dtype: int64"
                        ]
                    },
                    "metadata": {},
                    "execution_count": 7
                }
            ],
            "metadata": {}
        },
        {
            "cell_type": "markdown",
            "source": [
                "From the above code it is apparent that \"Age\", \"Height\", \"Weight\" and \"Medal\" are the only columns with missing values. However, the missing values in the \"Medal\" column are probably due to the fact that the players did not win any medals at that time and not that those values are actually missing. Therefore, we will only impute the values in the \"Age\", \"Height\" and \"Weight\" columns of the data set."
            ],
            "metadata": {}
        },
        {
            "cell_type": "markdown",
            "source": [
                "## Model Building\r\n",
                "\r\n",
                "- Data Cleaning"
            ],
            "metadata": {}
        },
        {
            "cell_type": "code",
            "execution_count": 8,
            "source": [
                "Athletes_df.columns"
            ],
            "outputs": [
                {
                    "output_type": "execute_result",
                    "data": {
                        "text/plain": [
                            "Index(['Name', 'Sex', 'Age', 'Height', 'Weight', 'Team', 'NOC', 'Games',\n",
                            "       'Season', 'City', 'Sport', 'Event', 'Medal'],\n",
                            "      dtype='object')"
                        ]
                    },
                    "metadata": {},
                    "execution_count": 8
                }
            ],
            "metadata": {}
        },
        {
            "cell_type": "code",
            "execution_count": 9,
            "source": [
                "# dropping features that do not make sense for our proposal \r\n",
                "data = Athletes_df.copy()\r\n",
                "data.drop(['Name', 'Games', 'Team', 'Season', 'City', 'Event'], axis = 1, inplace = True)"
            ],
            "outputs": [],
            "metadata": {}
        },
        {
            "cell_type": "code",
            "execution_count": 10,
            "source": [
                "# The dataset with the features that interest us for our proposal\r\n",
                "data.columns"
            ],
            "outputs": [
                {
                    "output_type": "execute_result",
                    "data": {
                        "text/plain": [
                            "Index(['Sex', 'Age', 'Height', 'Weight', 'NOC', 'Sport', 'Medal'], dtype='object')"
                        ]
                    },
                    "metadata": {},
                    "execution_count": 10
                }
            ],
            "metadata": {}
        },
        {
            "cell_type": "code",
            "execution_count": 11,
            "source": [
                "# Encoding for Medal\r##data['Medal'] = data['Medal'].replace({np.NaN: 0,'Gold': 1, 'Silver': 2,'Bronze': 3}) # Option A : Keep the Medals NoMedal(0),Gold(1),Silver(2),Bronze(3)\r\n",
                "#data['Medal'] = data['Medal'].replace({np.NaN: 0,'Gold': 1, 'Silver': 1,'Bronze': 1}) # Option B : Keep the Medals NoMedal(0),Medal(1)\r\n",
                "data['Medal'] = data['Medal'].apply(lambda x: 0 if str(x) == 'nan' else 1)            # Option C : Keep the Medals NoMedal(0),Medal(1)"
            ],
            "outputs": [],
            "metadata": {}
        },
        {
            "cell_type": "code",
            "execution_count": 12,
            "source": [
                "data.query('Medal == 0').head() # & Medal == 1"
            ],
            "outputs": [
                {
                    "output_type": "execute_result",
                    "data": {
                        "text/plain": [
                            "     Sex   Age  Height  Weight  NOC          Sport  Medal\n",
                            "Year                                                     \n",
                            "1992   M  24.0   180.0    80.0  CHN     Basketball      0\n",
                            "2012   M  23.0   170.0    60.0  CHN           Judo      0\n",
                            "1920   M  24.0     NaN     NaN  DEN       Football      0\n",
                            "1988   F  21.0   185.0    82.0  NED  Speed Skating      0\n",
                            "1988   F  21.0   185.0    82.0  NED  Speed Skating      0"
                        ],
                        "text/html": "<div>\n<style scoped>\n    .dataframe tbody tr th:only-of-type {\n        vertical-align: middle;\n    }\n\n    .dataframe tbody tr th {\n        vertical-align: top;\n    }\n\n    .dataframe thead th {\n        text-align: right;\n    }\n</style>\n<table border=\"1\" class=\"dataframe\">\n  <thead>\n    <tr style=\"text-align: right;\">\n      <th></th>\n      <th>Sex</th>\n      <th>Age</th>\n      <th>Height</th>\n      <th>Weight</th>\n      <th>NOC</th>\n      <th>Sport</th>\n      <th>Medal</th>\n    </tr>\n    <tr>\n      <th>Year</th>\n      <th></th>\n      <th></th>\n      <th></th>\n      <th></th>\n      <th></th>\n      <th></th>\n      <th></th>\n    </tr>\n  </thead>\n  <tbody>\n    <tr>\n      <th>1992</th>\n      <td>M</td>\n      <td>24.0</td>\n      <td>180.0</td>\n      <td>80.0</td>\n      <td>CHN</td>\n      <td>Basketball</td>\n      <td>0</td>\n    </tr>\n    <tr>\n      <th>2012</th>\n      <td>M</td>\n      <td>23.0</td>\n      <td>170.0</td>\n      <td>60.0</td>\n      <td>CHN</td>\n      <td>Judo</td>\n      <td>0</td>\n    </tr>\n    <tr>\n      <th>1920</th>\n      <td>M</td>\n      <td>24.0</td>\n      <td>NaN</td>\n      <td>NaN</td>\n      <td>DEN</td>\n      <td>Football</td>\n      <td>0</td>\n    </tr>\n    <tr>\n      <th>1988</th>\n      <td>F</td>\n      <td>21.0</td>\n      <td>185.0</td>\n      <td>82.0</td>\n      <td>NED</td>\n      <td>Speed Skating</td>\n      <td>0</td>\n    </tr>\n    <tr>\n      <th>1988</th>\n      <td>F</td>\n      <td>21.0</td>\n      <td>185.0</td>\n      <td>82.0</td>\n      <td>NED</td>\n      <td>Speed Skating</td>\n      <td>0</td>\n    </tr>\n  </tbody>\n</table>\n</div>"
                    },
                    "metadata": {},
                    "execution_count": 12
                }
            ],
            "metadata": {}
        },
        {
            "cell_type": "code",
            "execution_count": 13,
            "source": [
                "# applying groupby() function to group the data on Medal value.\r\n",
                "search = data.groupby('Medal')\r\n",
                "# Let's print the first entries in all the groups formed. \r\n",
                "search.first() "
            ],
            "outputs": [
                {
                    "output_type": "execute_result",
                    "data": {
                        "text/plain": [
                            "      Sex   Age  Height  Weight  NOC       Sport\n",
                            "Medal                                           \n",
                            "0       M  24.0   180.0    80.0  CHN  Basketball\n",
                            "1       M  34.0   184.0    85.0  DEN  Tug-Of-War"
                        ],
                        "text/html": "<div>\n<style scoped>\n    .dataframe tbody tr th:only-of-type {\n        vertical-align: middle;\n    }\n\n    .dataframe tbody tr th {\n        vertical-align: top;\n    }\n\n    .dataframe thead th {\n        text-align: right;\n    }\n</style>\n<table border=\"1\" class=\"dataframe\">\n  <thead>\n    <tr style=\"text-align: right;\">\n      <th></th>\n      <th>Sex</th>\n      <th>Age</th>\n      <th>Height</th>\n      <th>Weight</th>\n      <th>NOC</th>\n      <th>Sport</th>\n    </tr>\n    <tr>\n      <th>Medal</th>\n      <th></th>\n      <th></th>\n      <th></th>\n      <th></th>\n      <th></th>\n      <th></th>\n    </tr>\n  </thead>\n  <tbody>\n    <tr>\n      <th>0</th>\n      <td>M</td>\n      <td>24.0</td>\n      <td>180.0</td>\n      <td>80.0</td>\n      <td>CHN</td>\n      <td>Basketball</td>\n    </tr>\n    <tr>\n      <th>1</th>\n      <td>M</td>\n      <td>34.0</td>\n      <td>184.0</td>\n      <td>85.0</td>\n      <td>DEN</td>\n      <td>Tug-Of-War</td>\n    </tr>\n  </tbody>\n</table>\n</div>"
                    },
                    "metadata": {},
                    "execution_count": 13
                }
            ],
            "metadata": {}
        },
        {
            "cell_type": "code",
            "execution_count": 14,
            "source": [
                "# list of columns with null values \r\n",
                "missing_values_columns = [col for col in data.columns if data.isnull().sum()[col] > 0]\r\n",
                "missing_values_columns"
            ],
            "outputs": [
                {
                    "output_type": "execute_result",
                    "data": {
                        "text/plain": [
                            "['Age', 'Height', 'Weight']"
                        ]
                    },
                    "metadata": {},
                    "execution_count": 14
                }
            ],
            "metadata": {}
        },
        {
            "cell_type": "code",
            "execution_count": 15,
            "source": [
                "# groupby for medal and gender then calculate mean for numerical features \r\n",
                "data.groupby(['Medal', 'Sex']).mean().astype(int)"
            ],
            "outputs": [
                {
                    "output_type": "execute_result",
                    "data": {
                        "text/plain": [
                            "           Age  Height  Weight\n",
                            "Medal Sex                     \n",
                            "0     F     23     167      59\n",
                            "      M     26     178      75\n",
                            "1     F     24     170      63\n",
                            "      M     26     181      79"
                        ],
                        "text/html": "<div>\n<style scoped>\n    .dataframe tbody tr th:only-of-type {\n        vertical-align: middle;\n    }\n\n    .dataframe tbody tr th {\n        vertical-align: top;\n    }\n\n    .dataframe thead th {\n        text-align: right;\n    }\n</style>\n<table border=\"1\" class=\"dataframe\">\n  <thead>\n    <tr style=\"text-align: right;\">\n      <th></th>\n      <th></th>\n      <th>Age</th>\n      <th>Height</th>\n      <th>Weight</th>\n    </tr>\n    <tr>\n      <th>Medal</th>\n      <th>Sex</th>\n      <th></th>\n      <th></th>\n      <th></th>\n    </tr>\n  </thead>\n  <tbody>\n    <tr>\n      <th rowspan=\"2\" valign=\"top\">0</th>\n      <th>F</th>\n      <td>23</td>\n      <td>167</td>\n      <td>59</td>\n    </tr>\n    <tr>\n      <th>M</th>\n      <td>26</td>\n      <td>178</td>\n      <td>75</td>\n    </tr>\n    <tr>\n      <th rowspan=\"2\" valign=\"top\">1</th>\n      <th>F</th>\n      <td>24</td>\n      <td>170</td>\n      <td>63</td>\n    </tr>\n    <tr>\n      <th>M</th>\n      <td>26</td>\n      <td>181</td>\n      <td>79</td>\n    </tr>\n  </tbody>\n</table>\n</div>"
                    },
                    "metadata": {},
                    "execution_count": 15
                }
            ],
            "metadata": {}
        },
        {
            "cell_type": "code",
            "execution_count": 16,
            "source": [
                "data.shape"
            ],
            "outputs": [
                {
                    "output_type": "execute_result",
                    "data": {
                        "text/plain": [
                            "(271116, 7)"
                        ]
                    },
                    "metadata": {},
                    "execution_count": 16
                }
            ],
            "metadata": {}
        },
        {
            "cell_type": "code",
            "execution_count": 17,
            "source": [
                "# checking for null values\r\n",
                "data.dropna(inplace=True)\r\n",
                "data.shape"
            ],
            "outputs": [
                {
                    "output_type": "execute_result",
                    "data": {
                        "text/plain": [
                            "(206165, 7)"
                        ]
                    },
                    "metadata": {},
                    "execution_count": 17
                }
            ],
            "metadata": {}
        },
        {
            "cell_type": "code",
            "execution_count": 18,
            "source": [
                "# saving the dataframe\n",
                "data.to_csv('feature_engineering.csv', header=True, index=False)"
            ],
            "outputs": [],
            "metadata": {}
        }
    ],
    "metadata": {
        "orig_nbformat": 4,
        "language_info": {
            "name": "python",
            "version": "3.8.10",
            "mimetype": "text/x-python",
            "codemirror_mode": {
                "name": "ipython",
                "version": 3
            },
            "pygments_lexer": "ipython3",
            "nbconvert_exporter": "python",
            "file_extension": ".py"
        },
        "kernelspec": {
            "name": "python3",
            "display_name": "Python 3.8.10 64-bit ('myhpc': conda)"
        },
        "interpreter": {
            "hash": "9e2cdb4300706d64c3bb8ce1a3dbea36fdccde4f6e84f712979922e3f9215c9d"
        }
    },
    "nbformat": 4,
    "nbformat_minor": 2
}